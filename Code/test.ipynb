{
 "cells": [
  {
   "metadata": {},
   "cell_type": "markdown",
   "source": "Import libraries",
   "id": "79f458621b34be32"
  },
  {
   "metadata": {
    "ExecuteTime": {
     "end_time": "2024-08-03T13:00:33.720455Z",
     "start_time": "2024-08-03T13:00:33.395417Z"
    }
   },
   "cell_type": "code",
   "source": [
    "import functions as fun\n",
    "import numpy as np\n",
    "import pandas as pd"
   ],
   "id": "initial_id",
   "outputs": [],
   "execution_count": 6
  },
  {
   "metadata": {},
   "cell_type": "markdown",
   "source": "Import the data from the file *\"your_dataset.csv\"*",
   "id": "9588f15824ca4bbc"
  },
  {
   "metadata": {},
   "cell_type": "markdown",
   "source": "Define ",
   "id": "9565af09b4db0c30"
  }
 ],
 "metadata": {
  "kernelspec": {
   "display_name": "Python 3",
   "language": "python",
   "name": "python3"
  },
  "language_info": {
   "codemirror_mode": {
    "name": "ipython",
    "version": 2
   },
   "file_extension": ".py",
   "mimetype": "text/x-python",
   "name": "python",
   "nbconvert_exporter": "python",
   "pygments_lexer": "ipython2",
   "version": "2.7.6"
  }
 },
 "nbformat": 4,
 "nbformat_minor": 5
}
