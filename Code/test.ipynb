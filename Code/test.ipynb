{
 "cells": [
  {
   "cell_type": "markdown",
   "id": "79f458621b34be32",
   "metadata": {},
   "source": [
    "# Test notebook  \n",
    "Import libraries:"
   ]
  },
  {
   "cell_type": "code",
   "id": "initial_id",
   "metadata": {
    "ExecuteTime": {
     "end_time": "2024-08-05T09:04:58.986523Z",
     "start_time": "2024-08-05T09:04:58.983380Z"
    }
   },
   "source": [
    "import functions as fun\n",
    "import pandas as pd\n",
    "import numpy as np"
   ],
   "outputs": [],
   "execution_count": 306
  },
  {
   "cell_type": "markdown",
   "id": "9588f15824ca4bbc",
   "metadata": {},
   "source": [
    "Import the data from the file *\"your_dataset.csv\"*:"
   ]
  },
  {
   "cell_type": "markdown",
   "id": "9565af09b4db0c30",
   "metadata": {},
   "source": []
  },
  {
   "cell_type": "code",
   "id": "774a985fec11d3d4",
   "metadata": {
    "ExecuteTime": {
     "end_time": "2024-08-05T09:04:59.062187Z",
     "start_time": "2024-08-05T09:04:59.029935Z"
    }
   },
   "source": [
    "# Load the data\n",
    "data = pd.read_csv('../Data/your_dataset.csv')\n",
    "data.head()"
   ],
   "outputs": [
    {
     "data": {
      "text/plain": [
       "         x1        x2          x3        x4        x5        x6        x7  \\\n",
       "0  1.205492  5.823226   98.837539 -1.075852  0.999205  0.911543  3.623558   \n",
       "1  1.391530  3.611581   98.857197 -5.020318  0.677165  0.999492  3.413112   \n",
       "2  1.692571 -0.887019  100.901276 -0.595548  0.177550 -0.915495  4.320264   \n",
       "3  4.289320  1.416843  100.784735 -2.897154 -0.066972 -0.786173  2.093003   \n",
       "4  0.542420 -1.010095  100.015580 -3.070705  0.088324 -0.242669  0.767942   \n",
       "\n",
       "         x8        x9        x10  y  \n",
       "0 -1.720267 -0.346191 -54.708330 -1  \n",
       "1  4.253865  2.041603 -54.317291  1  \n",
       "2  0.907834  3.126815 -56.397484 -1  \n",
       "3  1.336237  2.183829 -56.197728  1  \n",
       "4 -0.284683 -2.104145 -55.794045  1  "
      ],
      "text/html": [
       "<div>\n",
       "<style scoped>\n",
       "    .dataframe tbody tr th:only-of-type {\n",
       "        vertical-align: middle;\n",
       "    }\n",
       "\n",
       "    .dataframe tbody tr th {\n",
       "        vertical-align: top;\n",
       "    }\n",
       "\n",
       "    .dataframe thead th {\n",
       "        text-align: right;\n",
       "    }\n",
       "</style>\n",
       "<table border=\"1\" class=\"dataframe\">\n",
       "  <thead>\n",
       "    <tr style=\"text-align: right;\">\n",
       "      <th></th>\n",
       "      <th>x1</th>\n",
       "      <th>x2</th>\n",
       "      <th>x3</th>\n",
       "      <th>x4</th>\n",
       "      <th>x5</th>\n",
       "      <th>x6</th>\n",
       "      <th>x7</th>\n",
       "      <th>x8</th>\n",
       "      <th>x9</th>\n",
       "      <th>x10</th>\n",
       "      <th>y</th>\n",
       "    </tr>\n",
       "  </thead>\n",
       "  <tbody>\n",
       "    <tr>\n",
       "      <th>0</th>\n",
       "      <td>1.205492</td>\n",
       "      <td>5.823226</td>\n",
       "      <td>98.837539</td>\n",
       "      <td>-1.075852</td>\n",
       "      <td>0.999205</td>\n",
       "      <td>0.911543</td>\n",
       "      <td>3.623558</td>\n",
       "      <td>-1.720267</td>\n",
       "      <td>-0.346191</td>\n",
       "      <td>-54.708330</td>\n",
       "      <td>-1</td>\n",
       "    </tr>\n",
       "    <tr>\n",
       "      <th>1</th>\n",
       "      <td>1.391530</td>\n",
       "      <td>3.611581</td>\n",
       "      <td>98.857197</td>\n",
       "      <td>-5.020318</td>\n",
       "      <td>0.677165</td>\n",
       "      <td>0.999492</td>\n",
       "      <td>3.413112</td>\n",
       "      <td>4.253865</td>\n",
       "      <td>2.041603</td>\n",
       "      <td>-54.317291</td>\n",
       "      <td>1</td>\n",
       "    </tr>\n",
       "    <tr>\n",
       "      <th>2</th>\n",
       "      <td>1.692571</td>\n",
       "      <td>-0.887019</td>\n",
       "      <td>100.901276</td>\n",
       "      <td>-0.595548</td>\n",
       "      <td>0.177550</td>\n",
       "      <td>-0.915495</td>\n",
       "      <td>4.320264</td>\n",
       "      <td>0.907834</td>\n",
       "      <td>3.126815</td>\n",
       "      <td>-56.397484</td>\n",
       "      <td>-1</td>\n",
       "    </tr>\n",
       "    <tr>\n",
       "      <th>3</th>\n",
       "      <td>4.289320</td>\n",
       "      <td>1.416843</td>\n",
       "      <td>100.784735</td>\n",
       "      <td>-2.897154</td>\n",
       "      <td>-0.066972</td>\n",
       "      <td>-0.786173</td>\n",
       "      <td>2.093003</td>\n",
       "      <td>1.336237</td>\n",
       "      <td>2.183829</td>\n",
       "      <td>-56.197728</td>\n",
       "      <td>1</td>\n",
       "    </tr>\n",
       "    <tr>\n",
       "      <th>4</th>\n",
       "      <td>0.542420</td>\n",
       "      <td>-1.010095</td>\n",
       "      <td>100.015580</td>\n",
       "      <td>-3.070705</td>\n",
       "      <td>0.088324</td>\n",
       "      <td>-0.242669</td>\n",
       "      <td>0.767942</td>\n",
       "      <td>-0.284683</td>\n",
       "      <td>-2.104145</td>\n",
       "      <td>-55.794045</td>\n",
       "      <td>1</td>\n",
       "    </tr>\n",
       "  </tbody>\n",
       "</table>\n",
       "</div>"
      ]
     },
     "execution_count": 307,
     "metadata": {},
     "output_type": "execute_result"
    }
   ],
   "execution_count": 307
  },
  {
   "cell_type": "markdown",
   "id": "984922230c52ebe1",
   "metadata": {},
   "source": [
    "Select x and y from the data:"
   ]
  },
  {
   "cell_type": "code",
   "id": "df96b23fb690b76e",
   "metadata": {
    "ExecuteTime": {
     "end_time": "2024-08-05T09:04:59.067547Z",
     "start_time": "2024-08-05T09:04:59.063183Z"
    }
   },
   "source": [
    "x = data.iloc[:, :-1].values\n",
    "x"
   ],
   "outputs": [
    {
     "data": {
      "text/plain": [
       "array([[ 1.20549176e+00,  5.82322602e+00,  9.88375390e+01, ...,\n",
       "        -1.72026679e+00, -3.46190993e-01, -5.47083295e+01],\n",
       "       [ 1.39152953e+00,  3.61158113e+00,  9.88571974e+01, ...,\n",
       "         4.25386545e+00,  2.04160302e+00, -5.43172913e+01],\n",
       "       [ 1.69257118e+00, -8.87019160e-01,  1.00901276e+02, ...,\n",
       "         9.07834017e-01,  3.12681451e+00, -5.63974841e+01],\n",
       "       ...,\n",
       "       [ 1.74193338e+00,  3.63043056e-02,  1.00524071e+02, ...,\n",
       "        -1.31275953e+00, -4.42573164e-01, -5.61708765e+01],\n",
       "       [ 2.57498643e+00,  4.14423127e-02,  9.89837352e+01, ...,\n",
       "         9.04037667e-01, -1.69506427e+00, -5.48206991e+01],\n",
       "       [ 1.23522892e-01, -1.51841245e+00,  9.91593002e+01, ...,\n",
       "         4.08770835e-01, -2.16351846e+00, -5.48064335e+01]])"
      ]
     },
     "execution_count": 308,
     "metadata": {},
     "output_type": "execute_result"
    }
   ],
   "execution_count": 308
  },
  {
   "cell_type": "code",
   "id": "2cae5870cb64f2da",
   "metadata": {
    "ExecuteTime": {
     "end_time": "2024-08-05T09:04:59.072372Z",
     "start_time": "2024-08-05T09:04:59.067547Z"
    }
   },
   "source": [
    "y = data.iloc[:, -1].values\n",
    "y"
   ],
   "outputs": [
    {
     "data": {
      "text/plain": [
       "array([-1,  1, -1, ..., -1,  1,  1])"
      ]
     },
     "execution_count": 309,
     "metadata": {},
     "output_type": "execute_result"
    }
   ],
   "execution_count": 309
  },
  {
   "metadata": {
    "ExecuteTime": {
     "end_time": "2024-08-05T09:04:59.076956Z",
     "start_time": "2024-08-05T09:04:59.073371Z"
    }
   },
   "cell_type": "code",
   "source": [
    "# create training and test set\n",
    "indices = np.arange(x.shape[0])\n",
    "np.random.shuffle(indices)\n",
    "\n",
    "x = x[indices]\n",
    "y = y[indices]\n",
    "\n",
    "split_index = int(0.7 * x.shape[0])\n",
    "\n",
    "x_train, x_test = x[:split_index], x[split_index:]\n",
    "y_train, y_test = y[:split_index], y[split_index:]"
   ],
   "id": "fd3f2f3be88dae3b",
   "outputs": [],
   "execution_count": 310
  },
  {
   "cell_type": "markdown",
   "id": "bd4b2cee336aa0b6",
   "metadata": {},
   "source": [
    "### Train and Test the Perceptron Algorithm: \n",
    "\n",
    "#### Train the data:"
   ]
  },
  {
   "cell_type": "code",
   "id": "8f28453f8794864c",
   "metadata": {
    "ExecuteTime": {
     "end_time": "2024-08-05T09:04:59.163154Z",
     "start_time": "2024-08-05T09:04:59.144448Z"
    }
   },
   "source": [
    "prediction_train = fun.perceptron(x_train, y_train, 1)\n",
    "pd.DataFrame(prediction_train[1])"
   ],
   "outputs": [
    {
     "data": {
      "text/plain": [
       "        0\n",
       "0    -1.0\n",
       "1     1.0\n",
       "2     1.0\n",
       "3     1.0\n",
       "4     1.0\n",
       "...   ...\n",
       "6995  1.0\n",
       "6996  1.0\n",
       "6997  1.0\n",
       "6998 -1.0\n",
       "6999  1.0\n",
       "\n",
       "[7000 rows x 1 columns]"
      ],
      "text/html": [
       "<div>\n",
       "<style scoped>\n",
       "    .dataframe tbody tr th:only-of-type {\n",
       "        vertical-align: middle;\n",
       "    }\n",
       "\n",
       "    .dataframe tbody tr th {\n",
       "        vertical-align: top;\n",
       "    }\n",
       "\n",
       "    .dataframe thead th {\n",
       "        text-align: right;\n",
       "    }\n",
       "</style>\n",
       "<table border=\"1\" class=\"dataframe\">\n",
       "  <thead>\n",
       "    <tr style=\"text-align: right;\">\n",
       "      <th></th>\n",
       "      <th>0</th>\n",
       "    </tr>\n",
       "  </thead>\n",
       "  <tbody>\n",
       "    <tr>\n",
       "      <th>0</th>\n",
       "      <td>-1.0</td>\n",
       "    </tr>\n",
       "    <tr>\n",
       "      <th>1</th>\n",
       "      <td>1.0</td>\n",
       "    </tr>\n",
       "    <tr>\n",
       "      <th>2</th>\n",
       "      <td>1.0</td>\n",
       "    </tr>\n",
       "    <tr>\n",
       "      <th>3</th>\n",
       "      <td>1.0</td>\n",
       "    </tr>\n",
       "    <tr>\n",
       "      <th>4</th>\n",
       "      <td>1.0</td>\n",
       "    </tr>\n",
       "    <tr>\n",
       "      <th>...</th>\n",
       "      <td>...</td>\n",
       "    </tr>\n",
       "    <tr>\n",
       "      <th>6995</th>\n",
       "      <td>1.0</td>\n",
       "    </tr>\n",
       "    <tr>\n",
       "      <th>6996</th>\n",
       "      <td>1.0</td>\n",
       "    </tr>\n",
       "    <tr>\n",
       "      <th>6997</th>\n",
       "      <td>1.0</td>\n",
       "    </tr>\n",
       "    <tr>\n",
       "      <th>6998</th>\n",
       "      <td>-1.0</td>\n",
       "    </tr>\n",
       "    <tr>\n",
       "      <th>6999</th>\n",
       "      <td>1.0</td>\n",
       "    </tr>\n",
       "  </tbody>\n",
       "</table>\n",
       "<p>7000 rows × 1 columns</p>\n",
       "</div>"
      ]
     },
     "execution_count": 311,
     "metadata": {},
     "output_type": "execute_result"
    }
   ],
   "execution_count": 311
  },
  {
   "metadata": {},
   "cell_type": "markdown",
   "source": "Calculate the 0-1 loss:",
   "id": "857b5b73bdb662d5"
  },
  {
   "metadata": {
    "ExecuteTime": {
     "end_time": "2024-08-05T09:04:59.169585Z",
     "start_time": "2024-08-05T09:04:59.166141Z"
    }
   },
   "cell_type": "code",
   "source": [
    "zol = fun.zero_one_loss(prediction_train[1], y_train)\n",
    "zol"
   ],
   "id": "a3ae653dbf3e03c4",
   "outputs": [
    {
     "data": {
      "text/plain": [
       "2567"
      ]
     },
     "execution_count": 312,
     "metadata": {},
     "output_type": "execute_result"
    }
   ],
   "execution_count": 312
  },
  {
   "metadata": {
    "ExecuteTime": {
     "end_time": "2024-08-05T09:04:59.214110Z",
     "start_time": "2024-08-05T09:04:59.209870Z"
    }
   },
   "cell_type": "code",
   "source": [
    "zol_p_train = zol/len(y_train)\n",
    "zol_p_train"
   ],
   "id": "67f5c115e4870768",
   "outputs": [
    {
     "data": {
      "text/plain": [
       "0.3667142857142857"
      ]
     },
     "execution_count": 313,
     "metadata": {},
     "output_type": "execute_result"
    }
   ],
   "execution_count": 313
  },
  {
   "metadata": {},
   "cell_type": "markdown",
   "source": "The training set is not perfectly linearly separable.",
   "id": "a3fae2b925b9dec8"
  },
  {
   "metadata": {},
   "cell_type": "markdown",
   "source": "#### Test the data: ",
   "id": "3a97a51fb4f8f846"
  },
  {
   "metadata": {
    "ExecuteTime": {
     "end_time": "2024-08-05T09:04:59.237823Z",
     "start_time": "2024-08-05T09:04:59.234059Z"
    }
   },
   "cell_type": "code",
   "source": "x_test = np.insert(x_test, 0, 1, axis=1)  # Insert a column of ones for the bias term",
   "id": "c222b6bfd18f645c",
   "outputs": [],
   "execution_count": 314
  },
  {
   "metadata": {
    "ExecuteTime": {
     "end_time": "2024-08-05T09:04:59.335669Z",
     "start_time": "2024-08-05T09:04:59.329578Z"
    }
   },
   "cell_type": "code",
   "source": [
    "prediction_test = np.sign(np.dot(x_test, prediction_train[0])) # Predict the test set\n",
    "pd.DataFrame(prediction_test)"
   ],
   "id": "e38889a70135e2ea",
   "outputs": [
    {
     "data": {
      "text/plain": [
       "        0\n",
       "0    -1.0\n",
       "1    -1.0\n",
       "2     1.0\n",
       "3    -1.0\n",
       "4     1.0\n",
       "...   ...\n",
       "2995 -1.0\n",
       "2996  1.0\n",
       "2997  1.0\n",
       "2998  1.0\n",
       "2999  1.0\n",
       "\n",
       "[3000 rows x 1 columns]"
      ],
      "text/html": [
       "<div>\n",
       "<style scoped>\n",
       "    .dataframe tbody tr th:only-of-type {\n",
       "        vertical-align: middle;\n",
       "    }\n",
       "\n",
       "    .dataframe tbody tr th {\n",
       "        vertical-align: top;\n",
       "    }\n",
       "\n",
       "    .dataframe thead th {\n",
       "        text-align: right;\n",
       "    }\n",
       "</style>\n",
       "<table border=\"1\" class=\"dataframe\">\n",
       "  <thead>\n",
       "    <tr style=\"text-align: right;\">\n",
       "      <th></th>\n",
       "      <th>0</th>\n",
       "    </tr>\n",
       "  </thead>\n",
       "  <tbody>\n",
       "    <tr>\n",
       "      <th>0</th>\n",
       "      <td>-1.0</td>\n",
       "    </tr>\n",
       "    <tr>\n",
       "      <th>1</th>\n",
       "      <td>-1.0</td>\n",
       "    </tr>\n",
       "    <tr>\n",
       "      <th>2</th>\n",
       "      <td>1.0</td>\n",
       "    </tr>\n",
       "    <tr>\n",
       "      <th>3</th>\n",
       "      <td>-1.0</td>\n",
       "    </tr>\n",
       "    <tr>\n",
       "      <th>4</th>\n",
       "      <td>1.0</td>\n",
       "    </tr>\n",
       "    <tr>\n",
       "      <th>...</th>\n",
       "      <td>...</td>\n",
       "    </tr>\n",
       "    <tr>\n",
       "      <th>2995</th>\n",
       "      <td>-1.0</td>\n",
       "    </tr>\n",
       "    <tr>\n",
       "      <th>2996</th>\n",
       "      <td>1.0</td>\n",
       "    </tr>\n",
       "    <tr>\n",
       "      <th>2997</th>\n",
       "      <td>1.0</td>\n",
       "    </tr>\n",
       "    <tr>\n",
       "      <th>2998</th>\n",
       "      <td>1.0</td>\n",
       "    </tr>\n",
       "    <tr>\n",
       "      <th>2999</th>\n",
       "      <td>1.0</td>\n",
       "    </tr>\n",
       "  </tbody>\n",
       "</table>\n",
       "<p>3000 rows × 1 columns</p>\n",
       "</div>"
      ]
     },
     "execution_count": 315,
     "metadata": {},
     "output_type": "execute_result"
    }
   ],
   "execution_count": 315
  },
  {
   "metadata": {},
   "cell_type": "markdown",
   "source": "Calculate the 0-1 loss:",
   "id": "f4de6043bfdf4be6"
  },
  {
   "metadata": {
    "ExecuteTime": {
     "end_time": "2024-08-05T09:04:59.364157Z",
     "start_time": "2024-08-05T09:04:59.359603Z"
    }
   },
   "cell_type": "code",
   "source": [
    "zol_test = fun.zero_one_loss(prediction_test, y_test)\n",
    "zol_test"
   ],
   "id": "f921c543c45dc3d8",
   "outputs": [
    {
     "data": {
      "text/plain": [
       "1085"
      ]
     },
     "execution_count": 316,
     "metadata": {},
     "output_type": "execute_result"
    }
   ],
   "execution_count": 316
  },
  {
   "metadata": {
    "ExecuteTime": {
     "end_time": "2024-08-05T09:04:59.442093Z",
     "start_time": "2024-08-05T09:04:59.437957Z"
    }
   },
   "cell_type": "code",
   "source": [
    "zol_p_test = zol_test/len(y_test)\n",
    "zol_p_test"
   ],
   "id": "e19580473b5df15c",
   "outputs": [
    {
     "data": {
      "text/plain": [
       "0.3616666666666667"
      ]
     },
     "execution_count": 317,
     "metadata": {},
     "output_type": "execute_result"
    }
   ],
   "execution_count": 317
  },
  {
   "metadata": {},
   "cell_type": "markdown",
   "source": "### Train and Test the Pegasos algorithm:",
   "id": "8ccdfadd190df750"
  }
 ],
 "metadata": {
  "kernelspec": {
   "display_name": "Python 3 (ipykernel)",
   "language": "python",
   "name": "python3"
  },
  "language_info": {
   "codemirror_mode": {
    "name": "ipython",
    "version": 3
   },
   "file_extension": ".py",
   "mimetype": "text/x-python",
   "name": "python",
   "nbconvert_exporter": "python",
   "pygments_lexer": "ipython3",
   "version": "3.12.3"
  }
 },
 "nbformat": 4,
 "nbformat_minor": 5
}
